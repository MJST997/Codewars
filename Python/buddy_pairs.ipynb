{
 "cells": [
  {
   "cell_type": "code",
   "execution_count": 90,
   "metadata": {},
   "outputs": [],
   "source": [
    "import math\n",
    "def buddy(start, limit):\n",
    "    ''' \n",
    "        Divisors of 48 are: 1, 2, 3, 4, 6, 8, 12, 16, 24 --> sum: 76 = 75 + 1\n",
    "        Divisors of 75 are: 1, 3, 5, 15, 25 --> sum: 49 = 48 + 1\n",
    "        \n",
    "        \n",
    "        find a number where the sum(n)  = m+1 and sum(m)=n+1\n",
    "        where n & m are the proper divisors of the other \n",
    "        1. get the proper divisors of the number (n) between start-limit\n",
    "        2. get the sum of these divisors-1 (m)\n",
    "        3. get divisors of m\n",
    "        4. sum divisors-1 and compare to n \n",
    "\n",
    "        optimization of divisor function through using the sqrt root of num as thats when the division start repeating themselves\n",
    "    '''\n",
    "    for number in range(start,limit+1): \n",
    "        m = sum(divisors(number))-1\n",
    "        if number<m:\n",
    "            n = sum(divisors(m))-1\n",
    "            if n == number: \n",
    "                return [n,m]\n",
    "    return 'Nothing'\n",
    "\n",
    "def divisors(n):\n",
    "    #n = int(n/2)\n",
    "    #print(n)\n",
    "    divs = []\n",
    "    i = 2\n",
    "    while i < math.sqrt(n): \n",
    "        if n%i == 0: \n",
    "            divs.append(i)\n",
    "            divs.append(int(n/i))\n",
    "        i +=1\n",
    "    divs.append(1)\n",
    "    return divs"
   ]
  },
  {
   "cell_type": "code",
   "execution_count": 91,
   "metadata": {},
   "outputs": [
    {
     "name": "stdout",
     "output_type": "stream",
     "text": [
      "(48, 75)\n",
      "None\n",
      "(62744, 75495)\n",
      "(1081184, 1331967)\n"
     ]
    }
   ],
   "source": [
    "divisors(75)\n",
    "\n",
    "print(buddy(10, 50))#, [48, 75])\n",
    "print(buddy(2177, 4357))#, \"Nothing\")\n",
    "print(buddy(57345, 90061))#, [62744, 75495])\n",
    "print(buddy(1071625, 1103735))#, [1081184, 1331967])"
   ]
  }
 ],
 "metadata": {
  "language_info": {
   "name": "python"
  },
  "orig_nbformat": 4
 },
 "nbformat": 4,
 "nbformat_minor": 2
}
